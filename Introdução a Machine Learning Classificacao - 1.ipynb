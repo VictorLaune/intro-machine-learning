{
 "cells": [
  {
   "cell_type": "markdown",
   "id": "eab8d63c",
   "metadata": {},
   "source": [
    "**Classificação binária:** \n",
    "\n",
    "    - Na nossa vida, aprendemos a classificação baseado em alguém que indica, aponta ou fala, aprendizado supervisionado.\n",
    "    - O algoritmo vai estimar se é um porco ou cachorro (chamamos de estimadores)\n",
    "    - Como classificamos entre porcos e cachorros? Através de suas características (features), quanto mais dados temos, maiores as chances de que o algoritmo aprenda melhor.\n",
    "        - Pelo longo? Perna curta? Au au? - Temos 3 características (features) par classificar.\n",
    "    - Depois que treinamos um estimador, temos que saber quão bom é esse estimador, existe uma margem de erro e é importante saber a medida de acerto (acurácia).\n",
    "    \n",
    "    - Vamos fazer previsão com algortimos de classificação.\n",
    "    - Podemos utilizar isso para várias outras situações.\n",
    "    \n",
    "    1. Features\n",
    "    2. Itens\n",
    "    3. Treino\n",
    "    4. Teste\n",
    "    5. Taxa de Acerto\n",
    "    6. Otimizar\n",
    "    7. Prever\n",
    "    \n",
    "    Vamos utilizar o python + sklearn + numpy + graphviz + seaborn\n",
    "    \n",
    "    "
   ]
  },
  {
   "cell_type": "code",
   "execution_count": 20,
   "id": "9bc40f3c",
   "metadata": {},
   "outputs": [],
   "source": [
    "# Vamos classificar entre porco ou cachorro\n",
    "\n",
    "# feature (1 sim, 0 não)\n",
    "    # pelo longo?\n",
    "    # perna curta? \n",
    "    # faz auau?\n",
    "\n",
    "porco1 = [0, 1, 0]\n",
    "porco2 = [0, 1, 0]\n",
    "porco3 = [1, 1, 0]\n",
    "\n",
    "cachorro1 = [0, 1, 1]\n",
    "cachorro2 = [1, 0, 1]\n",
    "cachorro3 = [1, 1, 1]\n",
    "\n",
    "# 0=> cachorro, 1 => porco \n",
    "# f(x) = y\n",
    "treino_x = [porco1, porco2, porco3, cachorro1, cachorro2, cachorro3]\n",
    "treino_y  = [1, 1, 1, 0, 0, 0]  # labels / etiqueta"
   ]
  },
  {
   "cell_type": "code",
   "execution_count": 21,
   "id": "defdf5c7",
   "metadata": {},
   "outputs": [
    {
     "data": {
      "text/plain": [
       "LinearSVC()"
      ]
     },
     "execution_count": 21,
     "metadata": {},
     "output_type": "execute_result"
    }
   ],
   "source": [
    "from sklearn.svm import LinearSVC\n",
    "\n",
    "model = LinearSVC()\n",
    "model.fit(treino_x, treino_y) "
   ]
  },
  {
   "cell_type": "code",
   "execution_count": 22,
   "id": "12d784ea",
   "metadata": {},
   "outputs": [
    {
     "data": {
      "text/plain": [
       "array([0])"
      ]
     },
     "execution_count": 22,
     "metadata": {},
     "output_type": "execute_result"
    }
   ],
   "source": [
    "animal_misterioso = [1,1,1]\n",
    "model.predict([animal_misterioso])"
   ]
  },
  {
   "cell_type": "code",
   "execution_count": 29,
   "id": "cb28d1d6",
   "metadata": {},
   "outputs": [],
   "source": [
    "misterio1 = [1,1,1]\n",
    "misterio2 = [1,1,0]\n",
    "misterio3 = [0,1,1]\n",
    "\n",
    "teste_x = [misterio1, misterio2, misterio3]\n",
    "teste_y = [0, 1, 0]"
   ]
  },
  {
   "cell_type": "code",
   "execution_count": 30,
   "id": "0f08b62b",
   "metadata": {},
   "outputs": [],
   "source": [
    "previsoes = model.predict(teste_x)"
   ]
  },
  {
   "cell_type": "code",
   "execution_count": 31,
   "id": "bca4885d",
   "metadata": {},
   "outputs": [
    {
     "data": {
      "text/plain": [
       "array([ True,  True,  True])"
      ]
     },
     "execution_count": 31,
     "metadata": {},
     "output_type": "execute_result"
    }
   ],
   "source": [
    "# scikit-learn utiliza o numpy\n",
    "# Verificando a\n",
    "previsoes == teste_y"
   ]
  },
  {
   "cell_type": "code",
   "execution_count": 32,
   "id": "e9a58c4b",
   "metadata": {},
   "outputs": [
    {
     "name": "stdout",
     "output_type": "stream",
     "text": [
      "Taxa de acerto:  100.0\n"
     ]
    }
   ],
   "source": [
    "corretos = (previsoes == teste_y).sum()\n",
    "total = len(teste_x)\n",
    "\n",
    "taxa_de_acerto = corretos/total\n",
    "print(\"Taxa de acerto: \", taxa_de_acerto * 100)"
   ]
  },
  {
   "cell_type": "code",
   "execution_count": 33,
   "id": "9bf88ad9",
   "metadata": {},
   "outputs": [
    {
     "name": "stdout",
     "output_type": "stream",
     "text": [
      "Taxa de acerto 100.0\n"
     ]
    }
   ],
   "source": [
    "from sklearn.metrics import accuracy_score\n",
    "\n",
    "taxa_de_acerto = accuracy_score(teste_y, previsoes)\n",
    "    # Como parâmetros passamos os valores verdadeiros e os valores previstos.\n",
    "print(\"Taxa de acerto\", taxa_de_acerto * 100)"
   ]
  }
 ],
 "metadata": {
  "kernelspec": {
   "display_name": "Python 3 (ipykernel)",
   "language": "python",
   "name": "python3"
  },
  "language_info": {
   "codemirror_mode": {
    "name": "ipython",
    "version": 3
   },
   "file_extension": ".py",
   "mimetype": "text/x-python",
   "name": "python",
   "nbconvert_exporter": "python",
   "pygments_lexer": "ipython3",
   "version": "3.9.13"
  }
 },
 "nbformat": 4,
 "nbformat_minor": 5
}
