{
 "cells": [
  {
   "cell_type": "markdown",
   "id": "3bcba29e",
   "metadata": {},
   "source": [
    "    Cada item da tabela representa um usuário que acessou um site. O site possui 4 páginas diferentes, a pagina inicial (home), a pagina de como ele funciona (how_it_works), a pagina de contato (contact) e a quarta coluna que indica se a pessoa comprou ou não um produto (bought)."
   ]
  },
  {
   "cell_type": "code",
   "execution_count": 1,
   "id": "e8f377c9",
   "metadata": {},
   "outputs": [],
   "source": [
    "import pandas as pd"
   ]
  },
  {
   "cell_type": "code",
   "execution_count": 2,
   "id": "6b2d8700",
   "metadata": {},
   "outputs": [
    {
     "data": {
      "text/html": [
       "<div>\n",
       "<style scoped>\n",
       "    .dataframe tbody tr th:only-of-type {\n",
       "        vertical-align: middle;\n",
       "    }\n",
       "\n",
       "    .dataframe tbody tr th {\n",
       "        vertical-align: top;\n",
       "    }\n",
       "\n",
       "    .dataframe thead th {\n",
       "        text-align: right;\n",
       "    }\n",
       "</style>\n",
       "<table border=\"1\" class=\"dataframe\">\n",
       "  <thead>\n",
       "    <tr style=\"text-align: right;\">\n",
       "      <th></th>\n",
       "      <th>home</th>\n",
       "      <th>how_it_works</th>\n",
       "      <th>contact</th>\n",
       "      <th>bought</th>\n",
       "    </tr>\n",
       "  </thead>\n",
       "  <tbody>\n",
       "    <tr>\n",
       "      <th>0</th>\n",
       "      <td>1</td>\n",
       "      <td>1</td>\n",
       "      <td>0</td>\n",
       "      <td>0</td>\n",
       "    </tr>\n",
       "    <tr>\n",
       "      <th>1</th>\n",
       "      <td>1</td>\n",
       "      <td>1</td>\n",
       "      <td>0</td>\n",
       "      <td>0</td>\n",
       "    </tr>\n",
       "    <tr>\n",
       "      <th>2</th>\n",
       "      <td>1</td>\n",
       "      <td>1</td>\n",
       "      <td>0</td>\n",
       "      <td>0</td>\n",
       "    </tr>\n",
       "    <tr>\n",
       "      <th>3</th>\n",
       "      <td>1</td>\n",
       "      <td>1</td>\n",
       "      <td>0</td>\n",
       "      <td>0</td>\n",
       "    </tr>\n",
       "    <tr>\n",
       "      <th>4</th>\n",
       "      <td>1</td>\n",
       "      <td>1</td>\n",
       "      <td>0</td>\n",
       "      <td>0</td>\n",
       "    </tr>\n",
       "  </tbody>\n",
       "</table>\n",
       "</div>"
      ],
      "text/plain": [
       "   home  how_it_works  contact  bought\n",
       "0     1             1        0       0\n",
       "1     1             1        0       0\n",
       "2     1             1        0       0\n",
       "3     1             1        0       0\n",
       "4     1             1        0       0"
      ]
     },
     "execution_count": 2,
     "metadata": {},
     "output_type": "execute_result"
    }
   ],
   "source": [
    "dados = pd.read_csv('data/tracking.csv')\n",
    "dados.head()"
   ]
  },
  {
   "cell_type": "markdown",
   "id": "0fd50cd3",
   "metadata": {},
   "source": [
    "    Vamos renomear as colunas para deixa-las em português."
   ]
  },
  {
   "cell_type": "code",
   "execution_count": 3,
   "id": "1ba615ba",
   "metadata": {},
   "outputs": [],
   "source": [
    "mapa = {\n",
    "    \"home\":'principal',\n",
    "    \"how_it_works\" : \"como_funciona\",\n",
    "    \"contact\":\"contato\",\n",
    "    \"bought\":\"comprou\"\n",
    "}\n",
    "dados.rename(columns = mapa, inplace = True)"
   ]
  },
  {
   "cell_type": "markdown",
   "id": "af151419",
   "metadata": {},
   "source": [
    "    Vamos separar as 3 primeiras colunas (que são o \"x\", as features), da coluna \"comprou\" que é o \"y\"."
   ]
  },
  {
   "cell_type": "code",
   "execution_count": 4,
   "id": "272ae995",
   "metadata": {},
   "outputs": [],
   "source": [
    "x = dados[['principal','como_funciona', 'contato']]\n",
    "y = dados['comprou']"
   ]
  },
  {
   "cell_type": "markdown",
   "id": "8072ebe9",
   "metadata": {},
   "source": [
    "    Se eu treinar com todos os valores, não tenho com quem testar. É preciso então, separar os dados de treino e de teste para não enviesar os resultados.\n",
    "    \n",
    "    Vamos verificar quantas linhas temos, separar 25% para testar e treinar nos outros 75%.\n",
    "    \n",
    "        Dentro do sklearn existe um módulo para separar os valores de treino e de teste."
   ]
  },
  {
   "cell_type": "code",
   "execution_count": 27,
   "id": "2f78bc22",
   "metadata": {},
   "outputs": [
    {
     "name": "stdout",
     "output_type": "stream",
     "text": [
      "Treinaremos com 74 e testaremos com 25 elementos\n"
     ]
    }
   ],
   "source": [
    "from sklearn.model_selection import train_test_split\n",
    "\n",
    "SEED = 20\n",
    "\n",
    "treino_x, teste_x, treino_y, teste_y = train_test_split(x, y, \n",
    "                                                        random_state = SEED,\n",
    "                                                        stratify = y,\n",
    "                                                        test_size = 0.25)\n",
    "\n",
    "print(f'Treinaremos com {len(treino_x)} e testaremos com {len(teste_x)} elementos')"
   ]
  },
  {
   "cell_type": "markdown",
   "id": "676d6892",
   "metadata": {},
   "source": [
    "    Se rodarmos várias vezes o teste, veremos que ele apresentará acurácias diferentes. Isso acontece por que o algoritmo faz a separação aleatória e cada vez que roda dá um resultado diferente, então, como fazer para que seja replicável e tenha sempre o mesmo resultado?\n",
    "    \n",
    "    Vamos definir um número inicial (SEED) para definir a ordem dos números aleatórios (que deixam de ser tão aleatórios). Garantimos assim que tiramos a aleatoriedade do treino e do teste."
   ]
  },
  {
   "cell_type": "code",
   "execution_count": 31,
   "id": "0864a261",
   "metadata": {},
   "outputs": [
    {
     "name": "stdout",
     "output_type": "stream",
     "text": [
      "Acurácia de 96.00%\n"
     ]
    }
   ],
   "source": [
    "from sklearn.svm import LinearSVC\n",
    "from sklearn.metrics import accuracy_score\n",
    "\n",
    "model = LinearSVC()\n",
    "model.fit(treino_x, treino_y)\n",
    "\n",
    "previsoes = model.predict(teste_x)\n",
    "acuracia = accuracy_score(teste_y, previsoes) * 100\n",
    "\n",
    "print('Acurácia de %.2f%%' % acuracia)"
   ]
  },
  {
   "cell_type": "markdown",
   "id": "11d24745",
   "metadata": {},
   "source": [
    "    Vamos verificar como está o treino_y e teste_y. Utilizando o \".value_counts()\" é possível observar que: tivemos no treino 47 que não compraram e 27 que compararam. E no teste, tivemos 19 que não compraram e 6 que compraram.\n",
    "    \n",
    "    Não está proporcional essa separação, de acordo com as classes. E isso é bem arriscado, imagine treinar apenas com pessoas que não compraram? O algoritmo vai chutar sempre que as pessoas não compram.\n",
    "    \n",
    "    Por isso é importante seguir uma proporção equivalente. Para corrigir isso, precisamos colocar mais um argumento na separação, utilizando o \"stratify = y\", para que ele faça a separação proporcionalmente ao y."
   ]
  },
  {
   "cell_type": "code",
   "execution_count": 32,
   "id": "df29a093",
   "metadata": {},
   "outputs": [
    {
     "data": {
      "text/plain": [
       "0    47\n",
       "1    27\n",
       "Name: comprou, dtype: int64"
      ]
     },
     "execution_count": 32,
     "metadata": {},
     "output_type": "execute_result"
    }
   ],
   "source": [
    "treino_y.value_counts()"
   ]
  },
  {
   "cell_type": "code",
   "execution_count": 33,
   "id": "62716c5a",
   "metadata": {},
   "outputs": [
    {
     "data": {
      "text/plain": [
       "0    19\n",
       "1     6\n",
       "Name: comprou, dtype: int64"
      ]
     },
     "execution_count": 33,
     "metadata": {},
     "output_type": "execute_result"
    }
   ],
   "source": [
    "teste_y.value_counts()"
   ]
  },
  {
   "cell_type": "code",
   "execution_count": null,
   "id": "ca28bb12",
   "metadata": {},
   "outputs": [],
   "source": []
  }
 ],
 "metadata": {
  "kernelspec": {
   "display_name": "Python 3 (ipykernel)",
   "language": "python",
   "name": "python3"
  },
  "language_info": {
   "codemirror_mode": {
    "name": "ipython",
    "version": 3
   },
   "file_extension": ".py",
   "mimetype": "text/x-python",
   "name": "python",
   "nbconvert_exporter": "python",
   "pygments_lexer": "ipython3",
   "version": "3.9.13"
  }
 },
 "nbformat": 4,
 "nbformat_minor": 5
}
