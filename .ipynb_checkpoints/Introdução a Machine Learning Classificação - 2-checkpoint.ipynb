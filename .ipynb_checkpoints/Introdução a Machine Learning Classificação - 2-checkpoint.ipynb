{
 "cells": [
  {
   "cell_type": "markdown",
   "id": "3bcba29e",
   "metadata": {},
   "source": [
    "    Cada item da tabela representa um usuário que acessou um site. O site possui 4 páginas diferentes, a pagina inicial (home), a pagina de como ele funciona (how_it_works), a pagina de contato (contact) e a quarta coluna que indica se a pessoa comprou ou não um produto (bought)."
   ]
  },
  {
   "cell_type": "code",
   "execution_count": 1,
   "id": "e8f377c9",
   "metadata": {},
   "outputs": [],
   "source": [
    "import pandas as pd"
   ]
  },
  {
   "cell_type": "code",
   "execution_count": 2,
   "id": "6b2d8700",
   "metadata": {},
   "outputs": [
    {
     "data": {
      "text/html": [
       "<div>\n",
       "<style scoped>\n",
       "    .dataframe tbody tr th:only-of-type {\n",
       "        vertical-align: middle;\n",
       "    }\n",
       "\n",
       "    .dataframe tbody tr th {\n",
       "        vertical-align: top;\n",
       "    }\n",
       "\n",
       "    .dataframe thead th {\n",
       "        text-align: right;\n",
       "    }\n",
       "</style>\n",
       "<table border=\"1\" class=\"dataframe\">\n",
       "  <thead>\n",
       "    <tr style=\"text-align: right;\">\n",
       "      <th></th>\n",
       "      <th>home</th>\n",
       "      <th>how_it_works</th>\n",
       "      <th>contact</th>\n",
       "      <th>bought</th>\n",
       "    </tr>\n",
       "  </thead>\n",
       "  <tbody>\n",
       "    <tr>\n",
       "      <th>0</th>\n",
       "      <td>1</td>\n",
       "      <td>1</td>\n",
       "      <td>0</td>\n",
       "      <td>0</td>\n",
       "    </tr>\n",
       "    <tr>\n",
       "      <th>1</th>\n",
       "      <td>1</td>\n",
       "      <td>1</td>\n",
       "      <td>0</td>\n",
       "      <td>0</td>\n",
       "    </tr>\n",
       "    <tr>\n",
       "      <th>2</th>\n",
       "      <td>1</td>\n",
       "      <td>1</td>\n",
       "      <td>0</td>\n",
       "      <td>0</td>\n",
       "    </tr>\n",
       "    <tr>\n",
       "      <th>3</th>\n",
       "      <td>1</td>\n",
       "      <td>1</td>\n",
       "      <td>0</td>\n",
       "      <td>0</td>\n",
       "    </tr>\n",
       "    <tr>\n",
       "      <th>4</th>\n",
       "      <td>1</td>\n",
       "      <td>1</td>\n",
       "      <td>0</td>\n",
       "      <td>0</td>\n",
       "    </tr>\n",
       "  </tbody>\n",
       "</table>\n",
       "</div>"
      ],
      "text/plain": [
       "   home  how_it_works  contact  bought\n",
       "0     1             1        0       0\n",
       "1     1             1        0       0\n",
       "2     1             1        0       0\n",
       "3     1             1        0       0\n",
       "4     1             1        0       0"
      ]
     },
     "execution_count": 2,
     "metadata": {},
     "output_type": "execute_result"
    }
   ],
   "source": [
    "dados = pd.read_csv('data/tracking.csv')\n",
    "dados.head()"
   ]
  },
  {
   "cell_type": "markdown",
   "id": "0fd50cd3",
   "metadata": {},
   "source": [
    "    Vamos renomear as colunas para deixa-las em português."
   ]
  },
  {
   "cell_type": "code",
   "execution_count": 7,
   "id": "1ba615ba",
   "metadata": {},
   "outputs": [],
   "source": [
    "mapa = {\n",
    "    \"home\":'principal',\n",
    "    \"how_it_works\" : \"como_funciona\",\n",
    "    \"contact\":\"contato\",\n",
    "    \"bought\":\"comprou\"\n",
    "}\n",
    "dados.rename(columns = mapa, inplace = True)"
   ]
  },
  {
   "cell_type": "markdown",
   "id": "af151419",
   "metadata": {},
   "source": [
    "    Vamos separar as 3 primeiras colunas (que são o \"x\", as features), da coluna \"comprou\" que é o \"y\"."
   ]
  },
  {
   "cell_type": "code",
   "execution_count": 17,
   "id": "272ae995",
   "metadata": {},
   "outputs": [],
   "source": [
    "x = dados[['principal','como_funciona', 'contato']]\n",
    "y = dados['comprou']"
   ]
  },
  {
   "cell_type": "markdown",
   "id": "8072ebe9",
   "metadata": {},
   "source": [
    "    Se eu treinar com todos os valores, não tenho com quem testar. É preciso então, separar os dados de treino e de teste para não enviesar os resultados.\n",
    "    \n",
    "    Vamos verificar quantas linhas temos, separar 25% para testar e treinar nos outros 75%."
   ]
  },
  {
   "cell_type": "code",
   "execution_count": 23,
   "id": "2f78bc22",
   "metadata": {},
   "outputs": [
    {
     "name": "stdout",
     "output_type": "stream",
     "text": [
      "Treinaremos com 75 e testaremos com 24 elementos\n"
     ]
    }
   ],
   "source": [
    "treino_x = x[:75]\n",
    "treino_y = y[:75]\n",
    "teste_x = x[75:]\n",
    "teste_y = y[75:]\n",
    "\n",
    "print(f'Treinaremos com {len(treino_x)} e testaremos com {len(teste_x)} elementos')"
   ]
  },
  {
   "cell_type": "code",
   "execution_count": 35,
   "id": "0864a261",
   "metadata": {},
   "outputs": [
    {
     "name": "stdout",
     "output_type": "stream",
     "text": [
      "Acurácia de 95.83%\n"
     ]
    }
   ],
   "source": [
    "from sklearn.svm import LinearSVC\n",
    "from sklearn.metrics import accuracy_score\n",
    "\n",
    "model = LinearSVC()\n",
    "model.fit(treino_x, treino_y)\n",
    "\n",
    "previsoes = model.predict(teste_x)\n",
    "acuracia = accuracy_score(teste_y, previsoes) * 100\n",
    "\n",
    "print('Acurácia de %.2f%%' % acuracia)"
   ]
  }
 ],
 "metadata": {
  "kernelspec": {
   "display_name": "Python 3 (ipykernel)",
   "language": "python",
   "name": "python3"
  },
  "language_info": {
   "codemirror_mode": {
    "name": "ipython",
    "version": 3
   },
   "file_extension": ".py",
   "mimetype": "text/x-python",
   "name": "python",
   "nbconvert_exporter": "python",
   "pygments_lexer": "ipython3",
   "version": "3.9.13"
  }
 },
 "nbformat": 4,
 "nbformat_minor": 5
}
